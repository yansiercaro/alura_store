{
  "nbformat": 4,
  "nbformat_minor": 0,
  "metadata": {
    "colab": {
      "provenance": [],
      "include_colab_link": true
    },
    "kernelspec": {
      "name": "python3",
      "display_name": "Python 3"
    },
    "language_info": {
      "name": "python"
    }
  },
  "cells": [
    {
      "cell_type": "markdown",
      "metadata": {
        "id": "view-in-github",
        "colab_type": "text"
      },
      "source": [
        "<a href=\"https://colab.research.google.com/github/yansiercaro/alura_store/blob/main/AluraStoreLatam.ipynb\" target=\"_parent\"><img src=\"https://colab.research.google.com/assets/colab-badge.svg\" alt=\"Open In Colab\"/></a>"
      ]
    },
    {
      "cell_type": "markdown",
      "source": [
        "### Importación de datos\n",
        "\n"
      ],
      "metadata": {
        "id": "RhEdWd9YUR6H"
      }
    },
    {
      "cell_type": "code",
      "execution_count": 25,
      "metadata": {
        "colab": {
          "base_uri": "https://localhost:8080/",
          "height": 310
        },
        "id": "T3EvaeQ_INIL",
        "outputId": "a93e4142-e6ea-4d5a-9771-11906edca4bc"
      },
      "outputs": [
        {
          "output_type": "execute_result",
          "data": {
            "text/plain": [
              "            Producto Categoría del Producto    Precio  Costo de envío  \\\n",
              "0  Asistente virtual           Electrónicos  164300.0          6900.0   \n",
              "1    Mesa de comedor                Muebles  192300.0          8400.0   \n",
              "2      Juego de mesa               Juguetes  209600.0         15900.0   \n",
              "3         Microondas      Electrodomésticos  757500.0         41000.0   \n",
              "4   Silla de oficina                Muebles  335200.0         20200.0   \n",
              "\n",
              "  Fecha de Compra         Vendedor Lugar de Compra  Calificación  \\\n",
              "0      16/01/2021      Pedro Gomez          Bogotá             4   \n",
              "1      18/05/2022  Beatriz Morales        Medellín             1   \n",
              "2      15/03/2021   Juan Fernandez       Cartagena             1   \n",
              "3      03/05/2022   Juan Fernandez            Cali             4   \n",
              "4      07/11/2020    Maria Alfonso        Medellín             5   \n",
              "\n",
              "       Método de pago  Cantidad de cuotas       lat       lon  \n",
              "0  Tarjeta de crédito                   8   4.60971 -74.08175  \n",
              "1  Tarjeta de crédito                   4   6.25184 -75.56359  \n",
              "2  Tarjeta de crédito                   1  10.39972 -75.51444  \n",
              "3               Nequi                   1   3.43722 -76.52250  \n",
              "4               Nequi                   1   6.25184 -75.56359  "
            ],
            "text/html": [
              "\n",
              "  <div id=\"df-e5580329-08b7-4b48-8ae2-ac089909d3f5\" class=\"colab-df-container\">\n",
              "    <div>\n",
              "<style scoped>\n",
              "    .dataframe tbody tr th:only-of-type {\n",
              "        vertical-align: middle;\n",
              "    }\n",
              "\n",
              "    .dataframe tbody tr th {\n",
              "        vertical-align: top;\n",
              "    }\n",
              "\n",
              "    .dataframe thead th {\n",
              "        text-align: right;\n",
              "    }\n",
              "</style>\n",
              "<table border=\"1\" class=\"dataframe\">\n",
              "  <thead>\n",
              "    <tr style=\"text-align: right;\">\n",
              "      <th></th>\n",
              "      <th>Producto</th>\n",
              "      <th>Categoría del Producto</th>\n",
              "      <th>Precio</th>\n",
              "      <th>Costo de envío</th>\n",
              "      <th>Fecha de Compra</th>\n",
              "      <th>Vendedor</th>\n",
              "      <th>Lugar de Compra</th>\n",
              "      <th>Calificación</th>\n",
              "      <th>Método de pago</th>\n",
              "      <th>Cantidad de cuotas</th>\n",
              "      <th>lat</th>\n",
              "      <th>lon</th>\n",
              "    </tr>\n",
              "  </thead>\n",
              "  <tbody>\n",
              "    <tr>\n",
              "      <th>0</th>\n",
              "      <td>Asistente virtual</td>\n",
              "      <td>Electrónicos</td>\n",
              "      <td>164300.0</td>\n",
              "      <td>6900.0</td>\n",
              "      <td>16/01/2021</td>\n",
              "      <td>Pedro Gomez</td>\n",
              "      <td>Bogotá</td>\n",
              "      <td>4</td>\n",
              "      <td>Tarjeta de crédito</td>\n",
              "      <td>8</td>\n",
              "      <td>4.60971</td>\n",
              "      <td>-74.08175</td>\n",
              "    </tr>\n",
              "    <tr>\n",
              "      <th>1</th>\n",
              "      <td>Mesa de comedor</td>\n",
              "      <td>Muebles</td>\n",
              "      <td>192300.0</td>\n",
              "      <td>8400.0</td>\n",
              "      <td>18/05/2022</td>\n",
              "      <td>Beatriz Morales</td>\n",
              "      <td>Medellín</td>\n",
              "      <td>1</td>\n",
              "      <td>Tarjeta de crédito</td>\n",
              "      <td>4</td>\n",
              "      <td>6.25184</td>\n",
              "      <td>-75.56359</td>\n",
              "    </tr>\n",
              "    <tr>\n",
              "      <th>2</th>\n",
              "      <td>Juego de mesa</td>\n",
              "      <td>Juguetes</td>\n",
              "      <td>209600.0</td>\n",
              "      <td>15900.0</td>\n",
              "      <td>15/03/2021</td>\n",
              "      <td>Juan Fernandez</td>\n",
              "      <td>Cartagena</td>\n",
              "      <td>1</td>\n",
              "      <td>Tarjeta de crédito</td>\n",
              "      <td>1</td>\n",
              "      <td>10.39972</td>\n",
              "      <td>-75.51444</td>\n",
              "    </tr>\n",
              "    <tr>\n",
              "      <th>3</th>\n",
              "      <td>Microondas</td>\n",
              "      <td>Electrodomésticos</td>\n",
              "      <td>757500.0</td>\n",
              "      <td>41000.0</td>\n",
              "      <td>03/05/2022</td>\n",
              "      <td>Juan Fernandez</td>\n",
              "      <td>Cali</td>\n",
              "      <td>4</td>\n",
              "      <td>Nequi</td>\n",
              "      <td>1</td>\n",
              "      <td>3.43722</td>\n",
              "      <td>-76.52250</td>\n",
              "    </tr>\n",
              "    <tr>\n",
              "      <th>4</th>\n",
              "      <td>Silla de oficina</td>\n",
              "      <td>Muebles</td>\n",
              "      <td>335200.0</td>\n",
              "      <td>20200.0</td>\n",
              "      <td>07/11/2020</td>\n",
              "      <td>Maria Alfonso</td>\n",
              "      <td>Medellín</td>\n",
              "      <td>5</td>\n",
              "      <td>Nequi</td>\n",
              "      <td>1</td>\n",
              "      <td>6.25184</td>\n",
              "      <td>-75.56359</td>\n",
              "    </tr>\n",
              "  </tbody>\n",
              "</table>\n",
              "</div>\n",
              "    <div class=\"colab-df-buttons\">\n",
              "\n",
              "  <div class=\"colab-df-container\">\n",
              "    <button class=\"colab-df-convert\" onclick=\"convertToInteractive('df-e5580329-08b7-4b48-8ae2-ac089909d3f5')\"\n",
              "            title=\"Convert this dataframe to an interactive table.\"\n",
              "            style=\"display:none;\">\n",
              "\n",
              "  <svg xmlns=\"http://www.w3.org/2000/svg\" height=\"24px\" viewBox=\"0 -960 960 960\">\n",
              "    <path d=\"M120-120v-720h720v720H120Zm60-500h600v-160H180v160Zm220 220h160v-160H400v160Zm0 220h160v-160H400v160ZM180-400h160v-160H180v160Zm440 0h160v-160H620v160ZM180-180h160v-160H180v160Zm440 0h160v-160H620v160Z\"/>\n",
              "  </svg>\n",
              "    </button>\n",
              "\n",
              "  <style>\n",
              "    .colab-df-container {\n",
              "      display:flex;\n",
              "      gap: 12px;\n",
              "    }\n",
              "\n",
              "    .colab-df-convert {\n",
              "      background-color: #E8F0FE;\n",
              "      border: none;\n",
              "      border-radius: 50%;\n",
              "      cursor: pointer;\n",
              "      display: none;\n",
              "      fill: #1967D2;\n",
              "      height: 32px;\n",
              "      padding: 0 0 0 0;\n",
              "      width: 32px;\n",
              "    }\n",
              "\n",
              "    .colab-df-convert:hover {\n",
              "      background-color: #E2EBFA;\n",
              "      box-shadow: 0px 1px 2px rgba(60, 64, 67, 0.3), 0px 1px 3px 1px rgba(60, 64, 67, 0.15);\n",
              "      fill: #174EA6;\n",
              "    }\n",
              "\n",
              "    .colab-df-buttons div {\n",
              "      margin-bottom: 4px;\n",
              "    }\n",
              "\n",
              "    [theme=dark] .colab-df-convert {\n",
              "      background-color: #3B4455;\n",
              "      fill: #D2E3FC;\n",
              "    }\n",
              "\n",
              "    [theme=dark] .colab-df-convert:hover {\n",
              "      background-color: #434B5C;\n",
              "      box-shadow: 0px 1px 3px 1px rgba(0, 0, 0, 0.15);\n",
              "      filter: drop-shadow(0px 1px 2px rgba(0, 0, 0, 0.3));\n",
              "      fill: #FFFFFF;\n",
              "    }\n",
              "  </style>\n",
              "\n",
              "    <script>\n",
              "      const buttonEl =\n",
              "        document.querySelector('#df-e5580329-08b7-4b48-8ae2-ac089909d3f5 button.colab-df-convert');\n",
              "      buttonEl.style.display =\n",
              "        google.colab.kernel.accessAllowed ? 'block' : 'none';\n",
              "\n",
              "      async function convertToInteractive(key) {\n",
              "        const element = document.querySelector('#df-e5580329-08b7-4b48-8ae2-ac089909d3f5');\n",
              "        const dataTable =\n",
              "          await google.colab.kernel.invokeFunction('convertToInteractive',\n",
              "                                                    [key], {});\n",
              "        if (!dataTable) return;\n",
              "\n",
              "        const docLinkHtml = 'Like what you see? Visit the ' +\n",
              "          '<a target=\"_blank\" href=https://colab.research.google.com/notebooks/data_table.ipynb>data table notebook</a>'\n",
              "          + ' to learn more about interactive tables.';\n",
              "        element.innerHTML = '';\n",
              "        dataTable['output_type'] = 'display_data';\n",
              "        await google.colab.output.renderOutput(dataTable, element);\n",
              "        const docLink = document.createElement('div');\n",
              "        docLink.innerHTML = docLinkHtml;\n",
              "        element.appendChild(docLink);\n",
              "      }\n",
              "    </script>\n",
              "  </div>\n",
              "\n",
              "\n",
              "    <div id=\"df-d67df8c2-9cd8-4375-a34f-23beb9548c8f\">\n",
              "      <button class=\"colab-df-quickchart\" onclick=\"quickchart('df-d67df8c2-9cd8-4375-a34f-23beb9548c8f')\"\n",
              "                title=\"Suggest charts\"\n",
              "                style=\"display:none;\">\n",
              "\n",
              "<svg xmlns=\"http://www.w3.org/2000/svg\" height=\"24px\"viewBox=\"0 0 24 24\"\n",
              "     width=\"24px\">\n",
              "    <g>\n",
              "        <path d=\"M19 3H5c-1.1 0-2 .9-2 2v14c0 1.1.9 2 2 2h14c1.1 0 2-.9 2-2V5c0-1.1-.9-2-2-2zM9 17H7v-7h2v7zm4 0h-2V7h2v10zm4 0h-2v-4h2v4z\"/>\n",
              "    </g>\n",
              "</svg>\n",
              "      </button>\n",
              "\n",
              "<style>\n",
              "  .colab-df-quickchart {\n",
              "      --bg-color: #E8F0FE;\n",
              "      --fill-color: #1967D2;\n",
              "      --hover-bg-color: #E2EBFA;\n",
              "      --hover-fill-color: #174EA6;\n",
              "      --disabled-fill-color: #AAA;\n",
              "      --disabled-bg-color: #DDD;\n",
              "  }\n",
              "\n",
              "  [theme=dark] .colab-df-quickchart {\n",
              "      --bg-color: #3B4455;\n",
              "      --fill-color: #D2E3FC;\n",
              "      --hover-bg-color: #434B5C;\n",
              "      --hover-fill-color: #FFFFFF;\n",
              "      --disabled-bg-color: #3B4455;\n",
              "      --disabled-fill-color: #666;\n",
              "  }\n",
              "\n",
              "  .colab-df-quickchart {\n",
              "    background-color: var(--bg-color);\n",
              "    border: none;\n",
              "    border-radius: 50%;\n",
              "    cursor: pointer;\n",
              "    display: none;\n",
              "    fill: var(--fill-color);\n",
              "    height: 32px;\n",
              "    padding: 0;\n",
              "    width: 32px;\n",
              "  }\n",
              "\n",
              "  .colab-df-quickchart:hover {\n",
              "    background-color: var(--hover-bg-color);\n",
              "    box-shadow: 0 1px 2px rgba(60, 64, 67, 0.3), 0 1px 3px 1px rgba(60, 64, 67, 0.15);\n",
              "    fill: var(--button-hover-fill-color);\n",
              "  }\n",
              "\n",
              "  .colab-df-quickchart-complete:disabled,\n",
              "  .colab-df-quickchart-complete:disabled:hover {\n",
              "    background-color: var(--disabled-bg-color);\n",
              "    fill: var(--disabled-fill-color);\n",
              "    box-shadow: none;\n",
              "  }\n",
              "\n",
              "  .colab-df-spinner {\n",
              "    border: 2px solid var(--fill-color);\n",
              "    border-color: transparent;\n",
              "    border-bottom-color: var(--fill-color);\n",
              "    animation:\n",
              "      spin 1s steps(1) infinite;\n",
              "  }\n",
              "\n",
              "  @keyframes spin {\n",
              "    0% {\n",
              "      border-color: transparent;\n",
              "      border-bottom-color: var(--fill-color);\n",
              "      border-left-color: var(--fill-color);\n",
              "    }\n",
              "    20% {\n",
              "      border-color: transparent;\n",
              "      border-left-color: var(--fill-color);\n",
              "      border-top-color: var(--fill-color);\n",
              "    }\n",
              "    30% {\n",
              "      border-color: transparent;\n",
              "      border-left-color: var(--fill-color);\n",
              "      border-top-color: var(--fill-color);\n",
              "      border-right-color: var(--fill-color);\n",
              "    }\n",
              "    40% {\n",
              "      border-color: transparent;\n",
              "      border-right-color: var(--fill-color);\n",
              "      border-top-color: var(--fill-color);\n",
              "    }\n",
              "    60% {\n",
              "      border-color: transparent;\n",
              "      border-right-color: var(--fill-color);\n",
              "    }\n",
              "    80% {\n",
              "      border-color: transparent;\n",
              "      border-right-color: var(--fill-color);\n",
              "      border-bottom-color: var(--fill-color);\n",
              "    }\n",
              "    90% {\n",
              "      border-color: transparent;\n",
              "      border-bottom-color: var(--fill-color);\n",
              "    }\n",
              "  }\n",
              "</style>\n",
              "\n",
              "      <script>\n",
              "        async function quickchart(key) {\n",
              "          const quickchartButtonEl =\n",
              "            document.querySelector('#' + key + ' button');\n",
              "          quickchartButtonEl.disabled = true;  // To prevent multiple clicks.\n",
              "          quickchartButtonEl.classList.add('colab-df-spinner');\n",
              "          try {\n",
              "            const charts = await google.colab.kernel.invokeFunction(\n",
              "                'suggestCharts', [key], {});\n",
              "          } catch (error) {\n",
              "            console.error('Error during call to suggestCharts:', error);\n",
              "          }\n",
              "          quickchartButtonEl.classList.remove('colab-df-spinner');\n",
              "          quickchartButtonEl.classList.add('colab-df-quickchart-complete');\n",
              "        }\n",
              "        (() => {\n",
              "          let quickchartButtonEl =\n",
              "            document.querySelector('#df-d67df8c2-9cd8-4375-a34f-23beb9548c8f button');\n",
              "          quickchartButtonEl.style.display =\n",
              "            google.colab.kernel.accessAllowed ? 'block' : 'none';\n",
              "        })();\n",
              "      </script>\n",
              "    </div>\n",
              "\n",
              "    </div>\n",
              "  </div>\n"
            ],
            "application/vnd.google.colaboratory.intrinsic+json": {
              "type": "dataframe",
              "variable_name": "tienda",
              "summary": "{\n  \"name\": \"tienda\",\n  \"rows\": 2359,\n  \"fields\": [\n    {\n      \"column\": \"Producto\",\n      \"properties\": {\n        \"dtype\": \"category\",\n        \"num_unique_values\": 51,\n        \"samples\": [\n          \"Guitarra ac\\u00fastica\",\n          \"Bal\\u00f3n de baloncesto\",\n          \"Smartwatch\"\n        ],\n        \"semantic_type\": \"\",\n        \"description\": \"\"\n      }\n    },\n    {\n      \"column\": \"Categor\\u00eda del Producto\",\n      \"properties\": {\n        \"dtype\": \"category\",\n        \"num_unique_values\": 8,\n        \"samples\": [\n          \"Muebles\",\n          \"Deportes y diversi\\u00f3n\",\n          \"Electr\\u00f3nicos\"\n        ],\n        \"semantic_type\": \"\",\n        \"description\": \"\"\n      }\n    },\n    {\n      \"column\": \"Precio\",\n      \"properties\": {\n        \"dtype\": \"number\",\n        \"std\": 614686.7653873172,\n        \"min\": 7600.0,\n        \"max\": 2977000.0,\n        \"num_unique_values\": 1937,\n        \"samples\": [\n          2499400.0,\n          14800.0,\n          80500.0\n        ],\n        \"semantic_type\": \"\",\n        \"description\": \"\"\n      }\n    },\n    {\n      \"column\": \"Costo de env\\u00edo\",\n      \"properties\": {\n        \"dtype\": \"number\",\n        \"std\": 32860.0017825605,\n        \"min\": 0.0,\n        \"max\": 160800.0,\n        \"num_unique_values\": 753,\n        \"samples\": [\n          117800.0,\n          54700.0,\n          45600.0\n        ],\n        \"semantic_type\": \"\",\n        \"description\": \"\"\n      }\n    },\n    {\n      \"column\": \"Fecha de Compra\",\n      \"properties\": {\n        \"dtype\": \"object\",\n        \"num_unique_values\": 1018,\n        \"samples\": [\n          \"15/09/2022\",\n          \"03/06/2020\",\n          \"06/11/2021\"\n        ],\n        \"semantic_type\": \"\",\n        \"description\": \"\"\n      }\n    },\n    {\n      \"column\": \"Vendedor\",\n      \"properties\": {\n        \"dtype\": \"category\",\n        \"num_unique_values\": 14,\n        \"samples\": [\n          \"Juliana Costa\",\n          \"Mariana Herrera\",\n          \"Pedro Gomez\"\n        ],\n        \"semantic_type\": \"\",\n        \"description\": \"\"\n      }\n    },\n    {\n      \"column\": \"Lugar de Compra\",\n      \"properties\": {\n        \"dtype\": \"category\",\n        \"num_unique_values\": 19,\n        \"samples\": [\n          \"Bogot\\u00e1\",\n          \"Pereira\",\n          \"Neiva\"\n        ],\n        \"semantic_type\": \"\",\n        \"description\": \"\"\n      }\n    },\n    {\n      \"column\": \"Calificaci\\u00f3n\",\n      \"properties\": {\n        \"dtype\": \"number\",\n        \"std\": 1,\n        \"min\": 1,\n        \"max\": 5,\n        \"num_unique_values\": 5,\n        \"samples\": [\n          1,\n          2,\n          5\n        ],\n        \"semantic_type\": \"\",\n        \"description\": \"\"\n      }\n    },\n    {\n      \"column\": \"M\\u00e9todo de pago\",\n      \"properties\": {\n        \"dtype\": \"category\",\n        \"num_unique_values\": 4,\n        \"samples\": [\n          \"Nequi\",\n          \"Tarjeta de d\\u00e9bito\",\n          \"Tarjeta de cr\\u00e9dito\"\n        ],\n        \"semantic_type\": \"\",\n        \"description\": \"\"\n      }\n    },\n    {\n      \"column\": \"Cantidad de cuotas\",\n      \"properties\": {\n        \"dtype\": \"number\",\n        \"std\": 2,\n        \"min\": 1,\n        \"max\": 24,\n        \"num_unique_values\": 15,\n        \"samples\": [\n          7,\n          14,\n          8\n        ],\n        \"semantic_type\": \"\",\n        \"description\": \"\"\n      }\n    },\n    {\n      \"column\": \"lat\",\n      \"properties\": {\n        \"dtype\": \"number\",\n        \"std\": 2.2874452492678627,\n        \"min\": -4.21528,\n        \"max\": 11.54444,\n        \"num_unique_values\": 19,\n        \"samples\": [\n          4.60971,\n          4.81333,\n          2.9273\n        ],\n        \"semantic_type\": \"\",\n        \"description\": \"\"\n      }\n    },\n    {\n      \"column\": \"lon\",\n      \"properties\": {\n        \"dtype\": \"number\",\n        \"std\": 1.2178272727088486,\n        \"min\": -77.28111,\n        \"max\": -67.9239,\n        \"num_unique_values\": 19,\n        \"samples\": [\n          -74.08175,\n          -75.69611,\n          -75.28189\n        ],\n        \"semantic_type\": \"\",\n        \"description\": \"\"\n      }\n    }\n  ]\n}"
            }
          },
          "metadata": {},
          "execution_count": 25
        }
      ],
      "source": [
        "import pandas as pd\n",
        "\n",
        "url = \"https://raw.githubusercontent.com/alura-es-cursos/challenge1-data-science-latam/refs/heads/main/base-de-datos-challenge1-latam/tienda_1%20.csv\"\n",
        "url2 = \"https://raw.githubusercontent.com/alura-es-cursos/challenge1-data-science-latam/refs/heads/main/base-de-datos-challenge1-latam/tienda_2.csv\"\n",
        "url3 = \"https://raw.githubusercontent.com/alura-es-cursos/challenge1-data-science-latam/refs/heads/main/base-de-datos-challenge1-latam/tienda_3.csv\"\n",
        "url4 = \"https://raw.githubusercontent.com/alura-es-cursos/challenge1-data-science-latam/refs/heads/main/base-de-datos-challenge1-latam/tienda_4.csv\"\n",
        "\n",
        "tienda = pd.read_csv(url)\n",
        "tienda2 = pd.read_csv(url2)\n",
        "tienda3 = pd.read_csv(url3)\n",
        "tienda4 = pd.read_csv(url4)\n",
        "\n",
        "tienda.head()"
      ]
    },
    {
      "cell_type": "markdown",
      "source": [
        "##Exploración de los datos"
      ],
      "metadata": {
        "id": "FVX8AdMUTFG0"
      }
    },
    {
      "cell_type": "code",
      "source": [
        "for i, df in enumerate([tienda, tienda2, tienda3, tienda4], start=1):\n",
        "    print(f\"=== TIENDA {i} ===\")\n",
        "    print(df.info())\n",
        "    print(df.describe())\n",
        "    print(\"\\nPrimeras filas:\")\n",
        "    print(df.head(), \"\\n\\n\")"
      ],
      "metadata": {
        "colab": {
          "base_uri": "https://localhost:8080/"
        },
        "id": "oEnbhlsOTEv2",
        "outputId": "c6b79cef-4fc9-4e6f-c2fd-704552f38a03"
      },
      "execution_count": 26,
      "outputs": [
        {
          "output_type": "stream",
          "name": "stdout",
          "text": [
            "=== TIENDA 1 ===\n",
            "<class 'pandas.core.frame.DataFrame'>\n",
            "RangeIndex: 2359 entries, 0 to 2358\n",
            "Data columns (total 12 columns):\n",
            " #   Column                  Non-Null Count  Dtype  \n",
            "---  ------                  --------------  -----  \n",
            " 0   Producto                2359 non-null   object \n",
            " 1   Categoría del Producto  2359 non-null   object \n",
            " 2   Precio                  2359 non-null   float64\n",
            " 3   Costo de envío          2359 non-null   float64\n",
            " 4   Fecha de Compra         2359 non-null   object \n",
            " 5   Vendedor                2359 non-null   object \n",
            " 6   Lugar de Compra         2359 non-null   object \n",
            " 7   Calificación            2359 non-null   int64  \n",
            " 8   Método de pago          2359 non-null   object \n",
            " 9   Cantidad de cuotas      2359 non-null   int64  \n",
            " 10  lat                     2359 non-null   float64\n",
            " 11  lon                     2359 non-null   float64\n",
            "dtypes: float64(4), int64(2), object(6)\n",
            "memory usage: 221.3+ KB\n",
            "None\n",
            "             Precio  Costo de envío  Calificación  Cantidad de cuotas  \\\n",
            "count  2.359000e+03     2359.000000   2359.000000         2359.000000   \n",
            "mean   4.878679e+05    26018.609580      3.976685            2.943196   \n",
            "std    6.146868e+05    32860.001783      1.415370            2.819897   \n",
            "min    7.600000e+03        0.000000      1.000000            1.000000   \n",
            "25%    5.575000e+04     3100.000000      3.000000            1.000000   \n",
            "50%    2.353000e+05    12400.000000      5.000000            1.000000   \n",
            "75%    6.781000e+05    36000.000000      5.000000            4.000000   \n",
            "max    2.977000e+06   160800.000000      5.000000           24.000000   \n",
            "\n",
            "               lat          lon  \n",
            "count  2359.000000  2359.000000  \n",
            "mean      5.365283   -74.789417  \n",
            "std       2.287445     1.217827  \n",
            "min      -4.215280   -77.281110  \n",
            "25%       4.609710   -75.563590  \n",
            "50%       4.609710   -74.199040  \n",
            "75%       6.251840   -74.081750  \n",
            "max      11.544440   -67.923900  \n",
            "\n",
            "Primeras filas:\n",
            "            Producto Categoría del Producto    Precio  Costo de envío  \\\n",
            "0  Asistente virtual           Electrónicos  164300.0          6900.0   \n",
            "1    Mesa de comedor                Muebles  192300.0          8400.0   \n",
            "2      Juego de mesa               Juguetes  209600.0         15900.0   \n",
            "3         Microondas      Electrodomésticos  757500.0         41000.0   \n",
            "4   Silla de oficina                Muebles  335200.0         20200.0   \n",
            "\n",
            "  Fecha de Compra         Vendedor Lugar de Compra  Calificación  \\\n",
            "0      16/01/2021      Pedro Gomez          Bogotá             4   \n",
            "1      18/05/2022  Beatriz Morales        Medellín             1   \n",
            "2      15/03/2021   Juan Fernandez       Cartagena             1   \n",
            "3      03/05/2022   Juan Fernandez            Cali             4   \n",
            "4      07/11/2020    Maria Alfonso        Medellín             5   \n",
            "\n",
            "       Método de pago  Cantidad de cuotas       lat       lon  \n",
            "0  Tarjeta de crédito                   8   4.60971 -74.08175  \n",
            "1  Tarjeta de crédito                   4   6.25184 -75.56359  \n",
            "2  Tarjeta de crédito                   1  10.39972 -75.51444  \n",
            "3               Nequi                   1   3.43722 -76.52250  \n",
            "4               Nequi                   1   6.25184 -75.56359   \n",
            "\n",
            "\n",
            "=== TIENDA 2 ===\n",
            "<class 'pandas.core.frame.DataFrame'>\n",
            "RangeIndex: 2359 entries, 0 to 2358\n",
            "Data columns (total 12 columns):\n",
            " #   Column                  Non-Null Count  Dtype  \n",
            "---  ------                  --------------  -----  \n",
            " 0   Producto                2359 non-null   object \n",
            " 1   Categoría del Producto  2359 non-null   object \n",
            " 2   Precio                  2359 non-null   float64\n",
            " 3   Costo de envío          2359 non-null   float64\n",
            " 4   Fecha de Compra         2359 non-null   object \n",
            " 5   Vendedor                2359 non-null   object \n",
            " 6   Lugar de Compra         2359 non-null   object \n",
            " 7   Calificación            2359 non-null   int64  \n",
            " 8   Método de pago          2359 non-null   object \n",
            " 9   Cantidad de cuotas      2359 non-null   int64  \n",
            " 10  lat                     2359 non-null   float64\n",
            " 11  lon                     2359 non-null   float64\n",
            "dtypes: float64(4), int64(2), object(6)\n",
            "memory usage: 221.3+ KB\n",
            "None\n",
            "             Precio  Costo de envío  Calificación  Cantidad de cuotas  \\\n",
            "count  2.359000e+03     2359.000000   2359.000000         2359.000000   \n",
            "mean   4.732274e+05    25216.235693      4.037304            2.902501   \n",
            "std    5.955595e+05    31741.375166      1.356153            2.848416   \n",
            "min    7.600000e+03        0.000000      1.000000            1.000000   \n",
            "25%    5.455000e+04     2900.000000      4.000000            1.000000   \n",
            "50%    2.182000e+05    11600.000000      5.000000            1.000000   \n",
            "75%    6.777000e+05    35450.000000      5.000000            4.000000   \n",
            "max    2.953400e+06   162500.000000      5.000000           24.000000   \n",
            "\n",
            "               lat          lon  \n",
            "count  2359.000000  2359.000000  \n",
            "mean      5.499753   -74.742963  \n",
            "std       2.351118     1.185997  \n",
            "min      -4.215280   -77.281110  \n",
            "25%       4.609710   -75.563590  \n",
            "50%       4.609710   -74.199040  \n",
            "75%       6.251840   -74.081750  \n",
            "max      11.544440   -67.923900  \n",
            "\n",
            "Primeras filas:\n",
            "           Producto  Categoría del Producto    Precio  Costo de envío  \\\n",
            "0  Silla de oficina                 Muebles  283600.0         15300.0   \n",
            "1         Pandereta  Instrumentos musicales   76800.0          2300.0   \n",
            "2         Cama king                 Muebles  443300.0         23800.0   \n",
            "3         Cama king                 Muebles  906200.0         46400.0   \n",
            "4  Silla de oficina                 Muebles  397800.0         19400.0   \n",
            "\n",
            "  Fecha de Compra         Vendedor Lugar de Compra  Calificación  \\\n",
            "0      04/08/2021  Izabela de León        Medellín             1   \n",
            "1      26/11/2020   Blanca Ramirez        Medellín             3   \n",
            "2      22/10/2021  Izabela de León         Pereira             5   \n",
            "3      04/05/2022    Maria Alfonso            Cali             5   \n",
            "4      26/02/2022    Lucas Olivera          Bogotá             4   \n",
            "\n",
            "       Método de pago  Cantidad de cuotas      lat       lon  \n",
            "0               Nequi                   1  6.25184 -75.56359  \n",
            "1  Tarjeta de crédito                   4  6.25184 -75.56359  \n",
            "2  Tarjeta de crédito                  10  4.81333 -75.69611  \n",
            "3  Tarjeta de crédito                  10  3.43722 -76.52250  \n",
            "4  Tarjeta de crédito                   3  4.60971 -74.08175   \n",
            "\n",
            "\n",
            "=== TIENDA 3 ===\n",
            "<class 'pandas.core.frame.DataFrame'>\n",
            "RangeIndex: 2359 entries, 0 to 2358\n",
            "Data columns (total 12 columns):\n",
            " #   Column                  Non-Null Count  Dtype  \n",
            "---  ------                  --------------  -----  \n",
            " 0   Producto                2359 non-null   object \n",
            " 1   Categoría del Producto  2359 non-null   object \n",
            " 2   Precio                  2359 non-null   float64\n",
            " 3   Costo de envío          2359 non-null   float64\n",
            " 4   Fecha de Compra         2359 non-null   object \n",
            " 5   Vendedor                2359 non-null   object \n",
            " 6   Lugar de Compra         2359 non-null   object \n",
            " 7   Calificación            2359 non-null   int64  \n",
            " 8   Método de pago          2359 non-null   object \n",
            " 9   Cantidad de cuotas      2359 non-null   int64  \n",
            " 10  lat                     2359 non-null   float64\n",
            " 11  lon                     2359 non-null   float64\n",
            "dtypes: float64(4), int64(2), object(6)\n",
            "memory usage: 221.3+ KB\n",
            "None\n",
            "             Precio  Costo de envío  Calificación  Cantidad de cuotas  \\\n",
            "count  2.359000e+03     2359.000000   2359.000000         2359.000000   \n",
            "mean   4.654598e+05    24805.680373      4.048326            2.967783   \n",
            "std    5.806434e+05    30945.889626      1.386426            2.812153   \n",
            "min    7.600000e+03        0.000000      1.000000            1.000000   \n",
            "25%    5.740000e+04     3100.000000      4.000000            1.000000   \n",
            "50%    2.263000e+05    11900.000000      5.000000            2.000000   \n",
            "75%    6.660500e+05    34950.000000      5.000000            4.000000   \n",
            "max    2.968200e+06   158400.000000      5.000000           24.000000   \n",
            "\n",
            "               lat          lon  \n",
            "count  2359.000000  2359.000000  \n",
            "mean      5.437076   -74.733463  \n",
            "std       2.405272     1.224572  \n",
            "min      -4.215280   -77.281110  \n",
            "25%       4.609710   -75.563590  \n",
            "50%       4.609710   -74.199040  \n",
            "75%       6.251840   -74.081750  \n",
            "max      11.544440   -67.923900  \n",
            "\n",
            "Primeras filas:\n",
            "            Producto  Categoría del Producto     Precio  Costo de envío  \\\n",
            "0   Secadora de ropa       Electrodomésticos  1285100.0         66600.0   \n",
            "1      Mesa de noche                 Muebles   290100.0         13600.0   \n",
            "2  Guitarra acústica  Instrumentos musicales   303500.0         17400.0   \n",
            "3  Balón de voleibol    Deportes y diversión    58800.0          3300.0   \n",
            "4            Armario                 Muebles   521100.0         25900.0   \n",
            "\n",
            "  Fecha de Compra        Vendedor Lugar de Compra  Calificación  \\\n",
            "0      17/12/2021   Camila Rivera     Santa Marta             4   \n",
            "1      10/02/2021   Maria Alfonso            Cali             3   \n",
            "2      22/01/2023   Lucas Olivera          Bogotá             5   \n",
            "3      22/03/2022     Pedro Gomez    Barranquilla             4   \n",
            "4      12/01/2022  Blanca Ramirez          Bogotá             1   \n",
            "\n",
            "       Método de pago  Cantidad de cuotas       lat       lon  \n",
            "0  Tarjeta de crédito                   4  11.24079 -74.19904  \n",
            "1  Tarjeta de crédito                   1   3.43722 -76.52250  \n",
            "2  Tarjeta de crédito                   3   4.60971 -74.08175  \n",
            "3  Tarjeta de crédito                   6  10.96854 -74.78132  \n",
            "4  Tarjeta de crédito                   1   4.60971 -74.08175   \n",
            "\n",
            "\n",
            "=== TIENDA 4 ===\n",
            "<class 'pandas.core.frame.DataFrame'>\n",
            "RangeIndex: 2358 entries, 0 to 2357\n",
            "Data columns (total 12 columns):\n",
            " #   Column                  Non-Null Count  Dtype  \n",
            "---  ------                  --------------  -----  \n",
            " 0   Producto                2358 non-null   object \n",
            " 1   Categoría del Producto  2358 non-null   object \n",
            " 2   Precio                  2358 non-null   float64\n",
            " 3   Costo de envío          2358 non-null   float64\n",
            " 4   Fecha de Compra         2358 non-null   object \n",
            " 5   Vendedor                2358 non-null   object \n",
            " 6   Lugar de Compra         2358 non-null   object \n",
            " 7   Calificación            2358 non-null   int64  \n",
            " 8   Método de pago          2358 non-null   object \n",
            " 9   Cantidad de cuotas      2358 non-null   int64  \n",
            " 10  lat                     2358 non-null   float64\n",
            " 11  lon                     2358 non-null   float64\n",
            "dtypes: float64(4), int64(2), object(6)\n",
            "memory usage: 221.2+ KB\n",
            "None\n",
            "             Precio  Costo de envío  Calificación  Cantidad de cuotas  \\\n",
            "count  2.358000e+03     2358.000000   2358.000000         2358.000000   \n",
            "mean   4.403629e+05    23459.457167      3.995759            2.896098   \n",
            "std    5.687556e+05    30279.100836      1.403063            2.730393   \n",
            "min    7.600000e+03        0.000000      1.000000            1.000000   \n",
            "25%    5.340000e+04     2900.000000      3.000000            1.000000   \n",
            "50%    2.094500e+05    10950.000000      5.000000            1.000000   \n",
            "75%    6.342250e+05    33300.000000      5.000000            4.000000   \n",
            "max    2.902200e+06   154700.000000      5.000000           18.000000   \n",
            "\n",
            "               lat          lon  \n",
            "count  2358.000000  2358.000000  \n",
            "mean      5.413519   -74.774597  \n",
            "std       2.376728     1.199749  \n",
            "min      -4.215280   -77.281110  \n",
            "25%       4.609710   -75.563590  \n",
            "50%       4.609710   -74.199040  \n",
            "75%       6.251840   -74.081750  \n",
            "max      11.544440   -67.923900  \n",
            "\n",
            "Primeras filas:\n",
            "              Producto Categoría del Producto     Precio  Costo de envío  \\\n",
            "0         Lavavajillas      Electrodomésticos  1084800.0         56000.0   \n",
            "1             Cama box                Muebles   473800.0         25400.0   \n",
            "2  Balón de baloncesto   Deportes y diversión    23700.0             0.0   \n",
            "3  Modelado predictivo                 Libros    57700.0          1300.0   \n",
            "4          Auriculares           Electrónicos   138900.0          5600.0   \n",
            "\n",
            "  Fecha de Compra         Vendedor Lugar de Compra  Calificación  \\\n",
            "0      11/11/2022    Rafael Acosta          Bogotá             4   \n",
            "1      03/01/2020  Izabela de León          Cúcuta             5   \n",
            "2      25/12/2022    Maria Alfonso        Medellín             5   \n",
            "3      23/11/2021    Lucas Olivera        Medellín             3   \n",
            "4      25/04/2022   Blanca Ramirez          Bogotá             4   \n",
            "\n",
            "       Método de pago  Cantidad de cuotas      lat       lon  \n",
            "0  Tarjeta de crédito                   3  4.60971 -74.08175  \n",
            "1  Tarjeta de crédito                   2  7.89391 -72.50782  \n",
            "2               Nequi                   1  6.25184 -75.56359  \n",
            "3               Nequi                   1  6.25184 -75.56359  \n",
            "4  Tarjeta de crédito                   7  4.60971 -74.08175   \n",
            "\n",
            "\n"
          ]
        }
      ]
    },
    {
      "cell_type": "code",
      "source": [
        "print(tienda.columns.tolist())"
      ],
      "metadata": {
        "colab": {
          "base_uri": "https://localhost:8080/"
        },
        "id": "ichf9puBUx_e",
        "outputId": "3c8f7c21-553e-4cbe-e8cb-b44ef30b17d8"
      },
      "execution_count": 27,
      "outputs": [
        {
          "output_type": "stream",
          "name": "stdout",
          "text": [
            "['Producto', 'Categoría del Producto', 'Precio', 'Costo de envío', 'Fecha de Compra', 'Vendedor', 'Lugar de Compra', 'Calificación', 'Método de pago', 'Cantidad de cuotas', 'lat', 'lon']\n"
          ]
        }
      ]
    },
    {
      "cell_type": "markdown",
      "source": [
        "###Resumen de productos, categorias y calificaciones"
      ],
      "metadata": {
        "id": "1A3VdT3OnMEQ"
      }
    },
    {
      "cell_type": "code",
      "source": [
        "import pandas as pd\n",
        "\n",
        "tienda[\"Tienda\"] = \"Tienda 1\"\n",
        "tienda2[\"Tienda\"] = \"Tienda 2\"\n",
        "tienda3[\"Tienda\"] = \"Tienda 3\"\n",
        "tienda4[\"Tienda\"] = \"Tienda 4\"\n",
        "\n",
        "# --- Seleccionamos columnas relevantes ---\n",
        "columnas = [\"Tienda\", \"Producto\", \"Categoría del Producto\", \"Calificación\"]\n",
        "todas = pd.concat([tienda[columnas], tienda2[columnas], tienda3[columnas], tienda4[columnas]], ignore_index=True)\n",
        "\n",
        "# --- Creamos resumen por tienda ---\n",
        "resumen_tiendas = todas.groupby(\"Tienda\").agg({\n",
        "    \"Producto\": \"count\",\n",
        "    \"Categoría del Producto\": \"nunique\",\n",
        "    \"Calificación\": \"sum\"\n",
        "}).reset_index()\n",
        "\n",
        "# --- Renombramos columnas ---\n",
        "resumen_tiendas.rename(columns={\n",
        "    \"Producto\": \"Total de productos\",\n",
        "    \"Categoría del Producto\": \"Total de categorías\",\n",
        "    \"Calificación\": \"Suma de calificaciones\"\n",
        "}, inplace=True)\n",
        "\n",
        "print(\"Resumen general por tienda:\\n\")\n",
        "print(resumen_tiendas)"
      ],
      "metadata": {
        "id": "usE1N9o3n02e",
        "outputId": "18bb44d2-a42f-41a9-e4d9-ea1e8a08909a",
        "colab": {
          "base_uri": "https://localhost:8080/"
        }
      },
      "execution_count": 28,
      "outputs": [
        {
          "output_type": "stream",
          "name": "stdout",
          "text": [
            "Resumen general por tienda:\n",
            "\n",
            "     Tienda  Total de productos  Total de categorías  Suma de calificaciones\n",
            "0  Tienda 1                2359                    8                    9381\n",
            "1  Tienda 2                2359                    8                    9524\n",
            "2  Tienda 3                2359                    8                    9550\n",
            "3  Tienda 4                2358                    8                    9422\n"
          ]
        }
      ]
    },
    {
      "cell_type": "markdown",
      "source": [
        "###Explorando los precios y metodos de pago"
      ],
      "metadata": {
        "id": "zVJAmEAukX5P"
      }
    },
    {
      "cell_type": "code",
      "source": [
        "cols = [\"Precio\", \"Método de pago\"]\n",
        "\n",
        "t1 = tienda[cols].copy()\n",
        "t2 = tienda2[cols].copy()\n",
        "t3 = tienda3[cols].copy()\n",
        "t4 = tienda4[cols].copy()\n",
        "\n",
        "\n",
        "t1[\"Tienda\"] = \"Tienda 1\"\n",
        "t2[\"Tienda\"] = \"Tienda 2\"\n",
        "t3[\"Tienda\"] = \"Tienda 3\"\n",
        "t4[\"Tienda\"] = \"Tienda 4\"\n",
        "\n",
        "# Unimos todas\n",
        "pagos = pd.concat([t1, t2, t3, t4], ignore_index=True)\n",
        "\n",
        "# --- Promedio de precios por tienda ---\n",
        "precio_promedio = pagos.groupby(\"Tienda\")[\"Precio\"].mean().reset_index()\n",
        "precio_promedio.rename(columns={\"Precio\": \"Precio promedio\"}, inplace=True)\n",
        "\n",
        "print(\"\\n Promedio de precios por tienda:\\n\")\n",
        "print(precio_promedio)"
      ],
      "metadata": {
        "colab": {
          "base_uri": "https://localhost:8080/"
        },
        "id": "uxMZsIu0ZDJ7",
        "outputId": "9e83b1cc-5be4-46cc-d0dd-ad583cb31530"
      },
      "execution_count": 29,
      "outputs": [
        {
          "output_type": "stream",
          "name": "stdout",
          "text": [
            "\n",
            " Promedio de precios por tienda:\n",
            "\n",
            "     Tienda  Precio promedio\n",
            "0  Tienda 1    487867.910131\n",
            "1  Tienda 2    473227.426876\n",
            "2  Tienda 3    465459.771089\n",
            "3  Tienda 4    440362.892282\n"
          ]
        }
      ]
    },
    {
      "cell_type": "code",
      "source": [
        "metodos_pago = pagos.groupby([\"Tienda\", \"Método de pago\"]).size().reset_index(name=\"Cantidad de transacciones\")\n",
        "\n",
        "print(\"\\n Métodos de pago más utilizados por tienda:\\n\")\n",
        "print(metodos_pago.head(10))"
      ],
      "metadata": {
        "colab": {
          "base_uri": "https://localhost:8080/"
        },
        "id": "WbXIQazTZYlV",
        "outputId": "53700c84-6a5b-450e-9014-70866ad4fcfa"
      },
      "execution_count": 30,
      "outputs": [
        {
          "output_type": "stream",
          "name": "stdout",
          "text": [
            "\n",
            " Métodos de pago más utilizados por tienda:\n",
            "\n",
            "     Tienda      Método de pago  Cantidad de transacciones\n",
            "0  Tienda 1               Cupón                        137\n",
            "1  Tienda 1               Nequi                        483\n",
            "2  Tienda 1  Tarjeta de crédito                       1704\n",
            "3  Tienda 1   Tarjeta de débito                         35\n",
            "4  Tienda 2               Cupón                        141\n",
            "5  Tienda 2               Nequi                        467\n",
            "6  Tienda 2  Tarjeta de crédito                       1721\n",
            "7  Tienda 2   Tarjeta de débito                         30\n",
            "8  Tienda 3               Cupón                        101\n",
            "9  Tienda 3               Nequi                        468\n"
          ]
        }
      ]
    },
    {
      "cell_type": "markdown",
      "source": [
        "#1. Análisis de facturación\n",
        "\n"
      ],
      "metadata": {
        "id": "X62IW3KFUIYm"
      }
    },
    {
      "cell_type": "code",
      "source": [
        "#Obtengo los totales de cada tienda\n",
        "ingreso_tienda1=sum(tienda[\"Precio\"])\n",
        "ingreso_tienda2=sum(tienda2[\"Precio\"])\n",
        "ingreso_tienda3=sum(tienda3[\"Precio\"])\n",
        "ingreso_tienda4=sum(tienda4[\"Precio\"])\n",
        "\n",
        "print(f\"Ingreso total de la tienda 1: ${ingreso_tienda1}\")\n",
        "print(f\"Ingreso total de la tienda 2: ${ingreso_tienda2}\")\n",
        "print(f\"Ingreso total de la tienda 3: ${ingreso_tienda3}\")\n",
        "print(f\"Ingreso total de la tienda 4: ${ingreso_tienda4}\")"
      ],
      "metadata": {
        "id": "xykobSftV64I",
        "colab": {
          "base_uri": "https://localhost:8080/"
        },
        "outputId": "c30ca9dd-76c5-46eb-a059-525999337657"
      },
      "execution_count": 31,
      "outputs": [
        {
          "output_type": "stream",
          "name": "stdout",
          "text": [
            "Ingreso total de la tienda 1: $1150880400.0\n",
            "Ingreso total de la tienda 2: $1116343500.0\n",
            "Ingreso total de la tienda 3: $1098019600.0\n",
            "Ingreso total de la tienda 4: $1038375700.0\n"
          ]
        }
      ]
    },
    {
      "cell_type": "code",
      "source": [
        "#Organizo los datos obtenidos en una tabla y con un formato más legible en los numeros\n",
        "\n",
        "import pandas as pd\n",
        "\n",
        "ingreso_tienda1 = 11508804.0\n",
        "ingreso_tienda2 = 11163435.0\n",
        "ingreso_tienda3 = 10980196.0\n",
        "ingreso_tienda4 = 10383757.0\n",
        "\n",
        "datos = {\n",
        "    'Tienda': ['Tienda 1', 'Tienda 2', 'Tienda 3', 'Tienda 4'],\n",
        "    'Ingreso Total': [ingreso_tienda1, ingreso_tienda2, ingreso_tienda3, ingreso_tienda4]\n",
        "}\n",
        "\n",
        "df = pd.DataFrame(datos)\n",
        "\n",
        "def formatear_moneda(numero):\n",
        "    return f\"${numero:,.2f}\"\n",
        "\n",
        "df['Ingreso Total Formateado'] = df['Ingreso Total'].apply(formatear_moneda)\n",
        "\n",
        "df_final = df[['Tienda', 'Ingreso Total Formateado']]\n",
        "df_final.columns = ['Tienda', 'Ingreso Total']\n",
        "\n",
        "print(\"Ingresos Totales por Tienda:\")\n",
        "print(df_final.to_string(index=False))"
      ],
      "metadata": {
        "id": "KDyr8E71V3m-",
        "colab": {
          "base_uri": "https://localhost:8080/"
        },
        "outputId": "6aad0011-7e4b-4a68-f960-211ff9060fd5"
      },
      "execution_count": 32,
      "outputs": [
        {
          "output_type": "stream",
          "name": "stdout",
          "text": [
            "Ingresos Totales por Tienda:\n",
            "  Tienda  Ingreso Total\n",
            "Tienda 1 $11,508,804.00\n",
            "Tienda 2 $11,163,435.00\n",
            "Tienda 3 $10,980,196.00\n",
            "Tienda 4 $10,383,757.00\n"
          ]
        }
      ]
    },
    {
      "cell_type": "markdown",
      "source": [
        "# 2. Ventas por categoría"
      ],
      "metadata": {
        "id": "2V_vcAPzWZmR"
      }
    },
    {
      "cell_type": "code",
      "source": [
        "categorias_por_tienda = (\n",
        "    todas.groupby(\"Tienda\")[\"Categoría del Producto\"]\n",
        "    .nunique()\n",
        "    .reset_index()\n",
        "    .rename(columns={\"Categoría del Producto\": \"Cantidad de categorías\"})\n",
        ")\n",
        "\n",
        "print(\"Cantidad de categorías únicas por tienda:\\n\")\n",
        "print(categorias_por_tienda.to_string(index=False))"
      ],
      "metadata": {
        "id": "yZR6cOjXYSk1",
        "colab": {
          "base_uri": "https://localhost:8080/"
        },
        "outputId": "bb825b06-9f5d-417c-bff4-aef9198b3e35"
      },
      "execution_count": 33,
      "outputs": [
        {
          "output_type": "stream",
          "name": "stdout",
          "text": [
            "Cantidad de categorías únicas por tienda:\n",
            "\n",
            "  Tienda  Cantidad de categorías\n",
            "Tienda 1                       8\n",
            "Tienda 2                       8\n",
            "Tienda 3                       8\n",
            "Tienda 4                       8\n"
          ]
        }
      ]
    },
    {
      "cell_type": "code",
      "source": [
        "#Agrupamos por tienda y categoría\n",
        "ventas_categoria = (\n",
        "    todas.groupby([\"Tienda\", \"Categoría del Producto\"])[\"Producto\"]\n",
        "    .count()\n",
        "    .reset_index()\n",
        "    .rename(columns={\"Producto\": \"Cantidad de ventas\"})\n",
        ")\n",
        "\n",
        "#Ordenamos dentro de cada tienda\n",
        "ventas_categoria = ventas_categoria.sort_values([\"Tienda\", \"Cantidad de ventas\"], ascending=[True, False])\n",
        "\n",
        "#Mostramos todas las categorías con total\n",
        "print(\"Categorías y total de ventas por tienda:\\n\")\n",
        "\n",
        "for tienda_nombre, df_tienda in ventas_categoria.groupby(\"Tienda\"):\n",
        "    print(f\"=== {tienda_nombre} ===\")\n",
        "\n",
        "    # Todas las categorías\n",
        "    tabla_tienda = df_tienda[[\"Categoría del Producto\", \"Cantidad de ventas\"]]\n",
        "\n",
        "    # Calculamos el total de ventas\n",
        "    total_ventas = df_tienda[\"Cantidad de ventas\"].sum()\n",
        "\n",
        "    # Agregamos la fila total\n",
        "    total_row = pd.DataFrame({\n",
        "        \"Categoría del Producto\": [\"TOTAL\"],\n",
        "        \"Cantidad de ventas\": [total_ventas]\n",
        "    })\n",
        "\n",
        "    # Combinamos\n",
        "    resultado = pd.concat([tabla_tienda, total_row], ignore_index=True)\n",
        "\n",
        "    # Mostramos la tabla\n",
        "    print(resultado.to_string(index=False))\n",
        "    print()"
      ],
      "metadata": {
        "id": "FW42vVUwr8yz",
        "outputId": "77e52cf8-fd64-4460-ac37-7cd12b8949df",
        "colab": {
          "base_uri": "https://localhost:8080/"
        }
      },
      "execution_count": 34,
      "outputs": [
        {
          "output_type": "stream",
          "name": "stdout",
          "text": [
            "Categorías y total de ventas por tienda:\n",
            "\n",
            "=== Tienda 1 ===\n",
            " Categoría del Producto  Cantidad de ventas\n",
            "                Muebles                 465\n",
            "           Electrónicos                 448\n",
            "               Juguetes                 324\n",
            "      Electrodomésticos                 312\n",
            "   Deportes y diversión                 284\n",
            " Instrumentos musicales                 182\n",
            "                 Libros                 173\n",
            "Artículos para el hogar                 171\n",
            "                  TOTAL                2359\n",
            "\n",
            "=== Tienda 2 ===\n",
            " Categoría del Producto  Cantidad de ventas\n",
            "                Muebles                 442\n",
            "           Electrónicos                 422\n",
            "               Juguetes                 313\n",
            "      Electrodomésticos                 305\n",
            "   Deportes y diversión                 275\n",
            " Instrumentos musicales                 224\n",
            "                 Libros                 197\n",
            "Artículos para el hogar                 181\n",
            "                  TOTAL                2359\n",
            "\n",
            "=== Tienda 3 ===\n",
            " Categoría del Producto  Cantidad de ventas\n",
            "                Muebles                 499\n",
            "           Electrónicos                 451\n",
            "               Juguetes                 315\n",
            "      Electrodomésticos                 278\n",
            "   Deportes y diversión                 277\n",
            "                 Libros                 185\n",
            "Artículos para el hogar                 177\n",
            " Instrumentos musicales                 177\n",
            "                  TOTAL                2359\n",
            "\n",
            "=== Tienda 4 ===\n",
            " Categoría del Producto  Cantidad de ventas\n",
            "                Muebles                 480\n",
            "           Electrónicos                 451\n",
            "               Juguetes                 338\n",
            "   Deportes y diversión                 277\n",
            "      Electrodomésticos                 254\n",
            "Artículos para el hogar                 201\n",
            "                 Libros                 187\n",
            " Instrumentos musicales                 170\n",
            "                  TOTAL                2358\n",
            "\n"
          ]
        }
      ]
    },
    {
      "cell_type": "code",
      "source": [
        "# --- Total de ventas por tienda ---\n",
        "total_ventas_tienda = (\n",
        "    ventas_categoria.groupby(\"Tienda\")[\"Cantidad de ventas\"]\n",
        "    .sum()\n",
        "    .reset_index()\n",
        ")\n",
        "\n",
        "# --- Categoría más vendida por tienda ---\n",
        "categoria_top = (\n",
        "    ventas_categoria.sort_values([\"Tienda\", \"Cantidad de ventas\"], ascending=[True, False])\n",
        "    .groupby(\"Tienda\")\n",
        "    .first()  # toma la primera fila (la de mayor cantidad)\n",
        "    .reset_index()[[\"Tienda\", \"Categoría del Producto\"]]\n",
        "    .rename(columns={\"Categoría del Producto\": \"Categoría más vendida\"})\n",
        ")\n",
        "\n",
        "# --- Unimos ambos DataFrames ---\n",
        "ranking_tiendas = (\n",
        "    pd.merge(total_ventas_tienda, categoria_top, on=\"Tienda\")\n",
        "    .sort_values(\"Cantidad de ventas\", ascending=False)\n",
        "    .reset_index(drop=True)\n",
        ")\n",
        "\n",
        "print(\"Ranking de tiendas por total de ventas (de mayor a menor):\\n\")\n",
        "print(ranking_tiendas.to_string(index=False))"
      ],
      "metadata": {
        "id": "YWnIZppethzJ",
        "outputId": "93b8c8b1-470b-4d6e-c3cf-e94eba923cf5",
        "colab": {
          "base_uri": "https://localhost:8080/"
        }
      },
      "execution_count": 35,
      "outputs": [
        {
          "output_type": "stream",
          "name": "stdout",
          "text": [
            "Ranking de tiendas por total de ventas (de mayor a menor):\n",
            "\n",
            "  Tienda  Cantidad de ventas Categoría más vendida\n",
            "Tienda 1                2359               Muebles\n",
            "Tienda 2                2359               Muebles\n",
            "Tienda 3                2359               Muebles\n",
            "Tienda 4                2358               Muebles\n"
          ]
        }
      ]
    },
    {
      "cell_type": "markdown",
      "source": [
        "# 3. Calificación promedio de la tienda\n"
      ],
      "metadata": {
        "id": "Rq6tU_xSY3jk"
      }
    },
    {
      "cell_type": "code",
      "source": [
        "calificacion_promedio = (\n",
        "    todas.groupby(\"Tienda\")[\"Calificación\"]\n",
        "    .mean()\n",
        "    .round(2)\n",
        "    .reset_index()\n",
        "    .rename(columns={\"Calificación\": \"Calificación promedio\"})\n",
        "    .sort_values(\"Calificación promedio\", ascending=False)\n",
        ")\n",
        "\n",
        "print(\"Calificación promedio de clientes por tienda:\\n\")\n",
        "print(calificacion_promedio.to_string(index=False))"
      ],
      "metadata": {
        "id": "bh3jjjJwY5MU",
        "colab": {
          "base_uri": "https://localhost:8080/"
        },
        "outputId": "b241593a-5eaa-477c-f6c6-ca170a55914f"
      },
      "execution_count": 36,
      "outputs": [
        {
          "output_type": "stream",
          "name": "stdout",
          "text": [
            "Calificación promedio de clientes por tienda:\n",
            "\n",
            "  Tienda  Calificación promedio\n",
            "Tienda 3                   4.05\n",
            "Tienda 2                   4.04\n",
            "Tienda 4                   4.00\n",
            "Tienda 1                   3.98\n"
          ]
        }
      ]
    },
    {
      "cell_type": "markdown",
      "source": [
        "# 4. Productos más y menos vendidos"
      ],
      "metadata": {
        "id": "DmNp1KPBZCm-"
      }
    },
    {
      "cell_type": "code",
      "source": [
        "import matplotlib.pyplot as plt\n",
        "\n",
        "#Agrupamos por tienda y producto\n",
        "productos_ventas = (\n",
        "    todas.groupby([\"Tienda\", \"Producto\"])[\"Producto\"]\n",
        "    .count()\n",
        "    .reset_index(name=\"Cantidad de ventas\")\n",
        ")\n",
        "\n",
        "#Ordenamos dentro de cada tienda\n",
        "productos_ventas = productos_ventas.sort_values([\"Tienda\", \"Cantidad de ventas\"], ascending=[True, False])\n",
        "\n",
        "\n",
        "print(\"Productos más y menos vendidos por tienda:\\n\")\n",
        "\n",
        "productos_top_bottom = []  # para guardar datos de resumen\n",
        "\n",
        "for tienda, df in productos_ventas.groupby(\"Tienda\"):\n",
        "    print(f\"=== {tienda} ===\")\n",
        "\n",
        "    # Producto más vendido\n",
        "    top = df.nlargest(1, \"Cantidad de ventas\")\n",
        "    bottom = df.nsmallest(1, \"Cantidad de ventas\")\n",
        "\n",
        "    print(\"Más vendido:\")\n",
        "    print(top[[\"Producto\", \"Cantidad de ventas\"]].to_string(index=False))\n",
        "    print(\"\\nMenos vendido:\")\n",
        "    print(bottom[[\"Producto\", \"Cantidad de ventas\"]].to_string(index=False))\n",
        "    print()\n",
        "\n",
        "    # Guardamos para graficar\n",
        "    productos_top_bottom.append({\n",
        "        \"Tienda\": tienda,\n",
        "        \"Producto más vendido\": top[\"Producto\"].values[0],\n",
        "        \"Ventas más altas\": top[\"Cantidad de ventas\"].values[0],\n",
        "        \"Producto menos vendido\": bottom[\"Producto\"].values[0],\n",
        "        \"Ventas más bajas\": bottom[\"Cantidad de ventas\"].values[0]\n",
        "    })\n",
        "\n",
        "#Convertimos el resumen en DataFrame\n",
        "resumen_productos = pd.DataFrame(productos_top_bottom)\n"
      ],
      "metadata": {
        "id": "qoyjqijQZHfF",
        "colab": {
          "base_uri": "https://localhost:8080/"
        },
        "outputId": "78fe6251-a028-475d-9243-37ba5e094fc1"
      },
      "execution_count": 37,
      "outputs": [
        {
          "output_type": "stream",
          "name": "stdout",
          "text": [
            "Productos más y menos vendidos por tienda:\n",
            "\n",
            "=== Tienda 1 ===\n",
            "Más vendido:\n",
            "Producto  Cantidad de ventas\n",
            " Armario                  60\n",
            "\n",
            "Menos vendido:\n",
            "                 Producto  Cantidad de ventas\n",
            "Auriculares con micrófono                  33\n",
            "\n",
            "=== Tienda 2 ===\n",
            "Más vendido:\n",
            "                 Producto  Cantidad de ventas\n",
            "Iniciando en programación                  65\n",
            "\n",
            "Menos vendido:\n",
            "     Producto  Cantidad de ventas\n",
            "Juego de mesa                  32\n",
            "\n",
            "=== Tienda 3 ===\n",
            "Más vendido:\n",
            "     Producto  Cantidad de ventas\n",
            "Kit de bancas                  57\n",
            "\n",
            "Menos vendido:\n",
            "               Producto  Cantidad de ventas\n",
            "Bloques de construcción                  35\n",
            "\n",
            "=== Tienda 4 ===\n",
            "Más vendido:\n",
            "Producto  Cantidad de ventas\n",
            "Cama box                  62\n",
            "\n",
            "Menos vendido:\n",
            "          Producto  Cantidad de ventas\n",
            "Guitarra eléctrica                  33\n",
            "\n"
          ]
        }
      ]
    },
    {
      "cell_type": "code",
      "source": [
        "print(\"Resumen general de productos más y menos vendidos:\\n\")\n",
        "print(resumen_productos.to_string(index=False))\n"
      ],
      "metadata": {
        "id": "0Sw3sd4IZIGW",
        "colab": {
          "base_uri": "https://localhost:8080/"
        },
        "outputId": "05cbd7f5-d8cc-45fd-c926-361a74b0091b"
      },
      "execution_count": 38,
      "outputs": [
        {
          "output_type": "stream",
          "name": "stdout",
          "text": [
            "Resumen general de productos más y menos vendidos:\n",
            "\n",
            "  Tienda      Producto más vendido  Ventas más altas    Producto menos vendido  Ventas más bajas\n",
            "Tienda 1                   Armario                60 Auriculares con micrófono                33\n",
            "Tienda 2 Iniciando en programación                65             Juego de mesa                32\n",
            "Tienda 3             Kit de bancas                57   Bloques de construcción                35\n",
            "Tienda 4                  Cama box                62        Guitarra eléctrica                33\n"
          ]
        }
      ]
    },
    {
      "cell_type": "markdown",
      "source": [
        "# 5. Envío promedio por tienda"
      ],
      "metadata": {
        "id": "Fl0cGi3bZKqU"
      }
    },
    {
      "cell_type": "code",
      "source": [
        "import pandas as pd\n",
        "\n",
        "url1 = \"https://raw.githubusercontent.com/alura-es-cursos/challenge1-data-science-latam/refs/heads/main/base-de-datos-challenge1-latam/tienda_1%20.csv\"\n",
        "url2 = \"https://raw.githubusercontent.com/alura-es-cursos/challenge1-data-science-latam/refs/heads/main/base-de-datos-challenge1-latam/tienda_2.csv\"\n",
        "url3 = \"https://raw.githubusercontent.com/alura-es-cursos/challenge1-data-science-latam/refs/heads/main/base-de-datos-challenge1-latam/tienda_3.csv\"\n",
        "url4 = \"https://raw.githubusercontent.com/alura-es-cursos/challenge1-data-science-latam/refs/heads/main/base-de-datos-challenge1-latam/tienda_4.csv\"\n",
        "\n",
        "t1 = pd.read_csv(url1)\n",
        "t2 = pd.read_csv(url2)\n",
        "t3 = pd.read_csv(url3)\n",
        "t4 = pd.read_csv(url4)\n",
        "\n",
        "#Agregar una columna con el nombre de la tienda\n",
        "t1[\"Tienda\"] = \"Tienda 1\"\n",
        "t2[\"Tienda\"] = \"Tienda 2\"\n",
        "t3[\"Tienda\"] = \"Tienda 3\"\n",
        "t4[\"Tienda\"] = \"Tienda 4\"\n",
        "\n",
        "#Combinar todas las tiendas conservando todas las columnas\n",
        "todas = pd.concat([t1, t2, t3, t4], ignore_index=True)"
      ],
      "metadata": {
        "id": "S2JeaCykZNy9"
      },
      "execution_count": 42,
      "outputs": []
    },
    {
      "cell_type": "code",
      "source": [
        "envio_promedio = (\n",
        "    todas.groupby(\"Tienda\")[\"Costo de envío\"]\n",
        "    .mean()\n",
        "    .round(2)\n",
        "    .reset_index()\n",
        "    .rename(columns={\"Costo de envío\": \"Costo de envío promedio\"})\n",
        "    .sort_values(\"Costo de envío promedio\", ascending=False)\n",
        ")\n",
        "\n",
        "envio_promedio[\"Costo de envío promedio\"] = envio_promedio[\"Costo de envío promedio\"].map(\"{:,.2f}\".format)\n",
        "\n",
        "print(\"Costo de envío promedio por tienda (el cliente paga el envío):\\n\")\n",
        "print(envio_promedio.to_string(index=False))"
      ],
      "metadata": {
        "id": "0tSdCie9ZQlt",
        "colab": {
          "base_uri": "https://localhost:8080/"
        },
        "outputId": "87375087-8930-4748-f261-59698679a835"
      },
      "execution_count": 44,
      "outputs": [
        {
          "output_type": "stream",
          "name": "stdout",
          "text": [
            "Costo de envío promedio por tienda (el cliente paga el envío):\n",
            "\n",
            "  Tienda Costo de envío promedio\n",
            "Tienda 1               26,018.61\n",
            "Tienda 2               25,216.24\n",
            "Tienda 3               24,805.68\n",
            "Tienda 4               23,459.46\n"
          ]
        }
      ]
    },
    {
      "cell_type": "markdown",
      "source": [
        "#**Generando gráfico**"
      ],
      "metadata": {
        "id": "SICQNGqLre6A"
      }
    },
    {
      "cell_type": "code",
      "source": [],
      "metadata": {
        "id": "BuLCJkUOrj87"
      },
      "execution_count": null,
      "outputs": []
    }
  ]
}